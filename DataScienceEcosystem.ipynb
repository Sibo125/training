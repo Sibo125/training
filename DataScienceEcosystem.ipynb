{
 "cells": [
  {
   "cell_type": "markdown",
   "id": "ff51e073-7283-4865-9ebd-250cda2584c9",
   "metadata": {},
   "source": [
    "# Data Science Tools and Ecosystem"
   ]
  },
  {
   "cell_type": "markdown",
   "id": "734cb995-8c56-4c40-b550-f1c0ba91f170",
   "metadata": {},
   "source": [
    "## In this notebook, Data Science Tools and Ecosystem are summarized."
   ]
  },
  {
   "cell_type": "markdown",
   "id": "ada40611-1355-483a-9597-2e45a184ced2",
   "metadata": {},
   "source": [
    "### **Objectives:**"
   ]
  },
  {
   "cell_type": "markdown",
   "id": "1f921bab-99d2-45a3-991a-e2138bc0e04f",
   "metadata": {},
   "source": [
    "- List commonly used programming languages in Data Science\n",
    "- List libraries used by Data Scientists\n",
    "- List various IDE tools commonly used by Data Scientists\n"
   ]
  },
  {
   "cell_type": "markdown",
   "id": "70540521-e727-41e6-a843-195c16ab80d0",
   "metadata": {},
   "source": [
    "## Some of the popular languages that Data Scientists use are:"
   ]
  },
  {
   "cell_type": "markdown",
   "id": "ac6c53f9-6066-45ca-9e15-5e7e584811e8",
   "metadata": {},
   "source": [
    "### 1. Python\n",
    "### 2. R\n",
    "### 3. Julia\n",
    "### 4. C++\n",
    "### 5. SQL\n",
    "### 6. Java\n",
    "### 7. Scala\n",
    "### 8. JavaScript"
   ]
  },
  {
   "cell_type": "markdown",
   "id": "2d1ed003-6083-4dd3-b943-75c8722a697c",
   "metadata": {},
   "source": [
    "## Some of the commonly used libraries used by Data Scientists include:"
   ]
  },
  {
   "cell_type": "markdown",
   "id": "892a1650-7ff6-4fc6-9a4d-2939dcfe9718",
   "metadata": {},
   "source": [
    "### 1. pandas\n",
    "### 2. numpy\n",
    "### 3. seaborn\n",
    "### 4. matplotlib.pyplot"
   ]
  },
  {
   "cell_type": "markdown",
   "id": "81f6d736-5958-4344-874c-aec37ddfa0cb",
   "metadata": {},
   "source": [
    "## Data Science Tools Table:"
   ]
  },
  {
   "cell_type": "markdown",
   "id": "0fb8acc5-34a0-4c9c-8e4f-ab4408296003",
   "metadata": {},
   "source": [
    "|Data Science Tools|\n",
    "|------------------|\n",
    "|Anaconda Navigator|\n",
    "|R Studio|\n",
    "|Jupyter Notebooks|\n",
    "|GitHub|"
   ]
  },
  {
   "cell_type": "markdown",
   "id": "b9a9a0cc-dca1-4f19-b0f9-f83dd13162c0",
   "metadata": {},
   "source": [
    "### Below are a few examples of evaluating arithmetic expressions in Python:"
   ]
  },
  {
   "cell_type": "code",
   "execution_count": 31,
   "id": "abef307e-ba50-485d-8cc2-ce19582f0e79",
   "metadata": {},
   "outputs": [
    {
     "data": {
      "text/plain": [
       "17"
      ]
     },
     "execution_count": 31,
     "metadata": {},
     "output_type": "execute_result"
    }
   ],
   "source": [
    "#This is a simple arithmetic expression to mutiply and then add integers\n",
    "(3*4)+5"
   ]
  },
  {
   "cell_type": "code",
   "execution_count": 16,
   "id": "c530ea34-a3bd-417f-986d-ff1635b59d99",
   "metadata": {},
   "outputs": [
    {
     "data": {
      "text/plain": [
       "3.3333333333333335"
      ]
     },
     "execution_count": 16,
     "metadata": {},
     "output_type": "execute_result"
    }
   ],
   "source": [
    "#This will convert 200 minutes to hours by diving by 60\n",
    "200/60 "
   ]
  },
  {
   "cell_type": "markdown",
   "id": "c5c9b7e9-3700-4bc2-8325-3e2e12540f5d",
   "metadata": {},
   "source": [
    "## Author\n",
    "Sibongile S. Charles"
   ]
  },
  {
   "cell_type": "code",
   "execution_count": null,
   "id": "e2e05233-cf87-442d-9f95-02ba85ed3787",
   "metadata": {},
   "outputs": [],
   "source": []
  }
 ],
 "metadata": {
  "kernelspec": {
   "display_name": "Python 3 (ipykernel)",
   "language": "python",
   "name": "python3"
  },
  "language_info": {
   "codemirror_mode": {
    "name": "ipython",
    "version": 3
   },
   "file_extension": ".py",
   "mimetype": "text/x-python",
   "name": "python",
   "nbconvert_exporter": "python",
   "pygments_lexer": "ipython3",
   "version": "3.12.4"
  }
 },
 "nbformat": 4,
 "nbformat_minor": 5
}
